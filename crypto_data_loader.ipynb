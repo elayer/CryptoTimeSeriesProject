{
 "cells": [
  {
   "cell_type": "code",
   "execution_count": null,
   "metadata": {},
   "outputs": [],
   "source": [
    "def crypto_data_loader(x, y, params):\n",
    "    \"\"\"Given the inputs, labels and dataloader parameters, returns a pytorch dataloader\n",
    "    Args:\n",
    "        x ([list]): [inputs list]\n",
    "        y ([list]): [target variable list]\n",
    "        params ([dict]): [Parameters pertaining to dataloader eg. batch size]\n",
    "    \"\"\"\n",
    "    training_set = CryptoDataset(x, y)\n",
    "    data_loader = DataLoader(training_set, **params) #torch.utils.data.DataLoader\n",
    "    return data_loader"
   ]
  }
 ],
 "metadata": {
  "kernelspec": {
   "display_name": "Python 3",
   "language": "python",
   "name": "python3"
  },
  "language_info": {
   "codemirror_mode": {
    "name": "ipython",
    "version": 3
   },
   "file_extension": ".py",
   "mimetype": "text/x-python",
   "name": "python",
   "nbconvert_exporter": "python",
   "pygments_lexer": "ipython3",
   "version": "3.8.5"
  }
 },
 "nbformat": 4,
 "nbformat_minor": 4
}
