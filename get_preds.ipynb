{
 "cells": [
  {
   "cell_type": "code",
   "execution_count": null,
   "metadata": {},
   "outputs": [],
   "source": [
    "def get_preds(generator, model):\n",
    "    \"\"\"Given a pytorch neural network model and a generator object, extracts predictions and returns the same\n",
    "    Args:\n",
    "        generator ([object]): [A pytorch dataloader which holds inputs on which we wanna predict]\n",
    "        model ([object]): [A pytorch model with which we will predict stock prices on input data]\n",
    "    \"\"\"\n",
    "    all_preds = []\n",
    "    all_labels = []\n",
    "    all_inputs = []\n",
    "    \n",
    "    for xb, yb in generator:\n",
    "        i = xb.unsqueeze(0)\n",
    "        o = model.predict(i)\n",
    "        all_preds.append(o)\n",
    "        all_inputs.append(i)\n",
    "        all_labels.append(yb)\n",
    "    return (torch.cat(all_preds), torch.cat(all_labels))"
   ]
  }
 ],
 "metadata": {
  "kernelspec": {
   "display_name": "Python 3",
   "language": "python",
   "name": "python3"
  },
  "language_info": {
   "codemirror_mode": {
    "name": "ipython",
    "version": 3
   },
   "file_extension": ".py",
   "mimetype": "text/x-python",
   "name": "python",
   "nbconvert_exporter": "python",
   "pygments_lexer": "ipython3",
   "version": "3.8.5"
  }
 },
 "nbformat": 4,
 "nbformat_minor": 4
}
