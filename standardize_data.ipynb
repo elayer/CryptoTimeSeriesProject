{
 "cells": [
  {
   "cell_type": "code",
   "execution_count": null,
   "metadata": {},
   "outputs": [],
   "source": [
    "def standardize_data(X, scaler = None, train = False):\n",
    "    \"\"\"Given a list of input features, standardizes them to bring them onto a homogenous scale\n",
    "    Args:\n",
    "        X ([dataframe]): [A dataframe of all the input values]\n",
    "        scaler ([object], optional): [A StandardScaler object that holds mean and std of a standardized dataset]. Defaults to None.\n",
    "        train (bool, optional): [If False, means validation set to be loaded and SS needs to be passed to scale it]. Defaults to False.\n",
    "    \"\"\"\n",
    "    if train:\n",
    "        scaler = StandardScaler()   \n",
    "        new_X = scaler.fit_transform(X)\n",
    "        return (new_X, scaler)\n",
    "    else:\n",
    "        new_X = scaler.transform(X)\n",
    "        return new_X #(new_X, None)"
   ]
  }
 ],
 "metadata": {
  "kernelspec": {
   "display_name": "Python 3",
   "language": "python",
   "name": "python3"
  },
  "language_info": {
   "codemirror_mode": {
    "name": "ipython",
    "version": 3
   },
   "file_extension": ".py",
   "mimetype": "text/x-python",
   "name": "python",
   "nbconvert_exporter": "python",
   "pygments_lexer": "ipython3",
   "version": "3.8.5"
  }
 },
 "nbformat": 4,
 "nbformat_minor": 4
}
