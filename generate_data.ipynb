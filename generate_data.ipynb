{
 "cells": [
  {
   "cell_type": "code",
   "execution_count": null,
   "metadata": {},
   "outputs": [],
   "source": [
    "def generate_data(df, price_col, date_col, n_steps):\n",
    "    \"\"\"Reads the dataset and based on n_steps/lags to consider in the time series, creates input output pairs\n",
    "    Args:\n",
    "        df (DataFrame): The dataframe to acquire the selected column of data from\n",
    "        price_col ([str]): [The name of column in the dataframe that holds the closing price for the stock]\n",
    "        date_col ([str]): [The nameo oc column in the dataframe which holds dates values]\n",
    "        n_steps ([int]): [Number of steps/ lags based on which prediction is made]\n",
    "    \"\"\"\n",
    "\n",
    "    for idx in range(n_steps):\n",
    "        df[f\"lag_{idx + 1}\"] = df[price_col].shift(periods = (idx + 1))\n",
    "    \n",
    "    # Create a dataframe which has only the lags and the date\n",
    "    new_df = df[[date_col, price_col] + [f\"lag_{x + 1}\" for x in range(n_steps)]]\n",
    "    new_df = new_df.iloc[n_steps:-1, :]\n",
    "\n",
    "    # Get a list of dates for which these inputs and outputs are\n",
    "    dates = list(new_df[date_col])\n",
    "\n",
    "    # Create input and output pairs out of this new_df\n",
    "    inputs = []\n",
    "    outputs = []\n",
    "    for entry in new_df.itertuples():\n",
    "        i = entry[-n_steps:][::-1]\n",
    "        o = entry[-(n_steps + 1)]\n",
    "        inputs.append(i)\n",
    "        outputs.append(o)\n",
    "\n",
    "    return (inputs, outputs, dates)"
   ]
  }
 ],
 "metadata": {
  "kernelspec": {
   "display_name": "Python 3",
   "language": "python",
   "name": "python3"
  },
  "language_info": {
   "codemirror_mode": {
    "name": "ipython",
    "version": 3
   },
   "file_extension": ".py",
   "mimetype": "text/x-python",
   "name": "python",
   "nbconvert_exporter": "python",
   "pygments_lexer": "ipython3",
   "version": "3.8.5"
  }
 },
 "nbformat": 4,
 "nbformat_minor": 4
}
