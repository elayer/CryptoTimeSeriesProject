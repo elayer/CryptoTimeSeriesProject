{
 "cells": [
  {
   "cell_type": "code",
   "execution_count": null,
   "metadata": {},
   "outputs": [],
   "source": [
    "class CryptoDataset(Dataset): #torch.utils.data.Dataset\n",
    "    \"\"\"This class is the dataset class which is used to load data for training the LSTM \n",
    "    to forecast timeseries data\n",
    "    \"\"\"\n",
    "\n",
    "    def __init__(self, inputs, outputs):\n",
    "        \"\"\"Initialize the class with instance variables\n",
    "        Args:\n",
    "            inputs ([list]): [A list of tuples representing input parameters]\n",
    "            outputs ([list]): [A list of floats for the stock price]\n",
    "        \"\"\"\n",
    "        self.inputs = inputs\n",
    "        self.outputs = outputs\n",
    "    \n",
    "    def __len__(self):\n",
    "        \"\"\"Returns the total number of samples in the dataset\n",
    "        \"\"\"\n",
    "        return len(self.outputs)\n",
    "    \n",
    "    def __getitem__(self, idx):\n",
    "        \"\"\"Given an index, it retrieves the input and output corresponding to that index and returns the same\n",
    "        Args:\n",
    "            idx ([int]): [An integer representing a position in the samples]\n",
    "        \"\"\"\n",
    "        x = torch.FloatTensor(self.inputs[idx])\n",
    "        y = torch.FloatTensor([self.outputs[idx]])\n",
    "        \n",
    "        return (x, y)"
   ]
  }
 ],
 "metadata": {
  "kernelspec": {
   "display_name": "Python 3",
   "language": "python",
   "name": "python3"
  },
  "language_info": {
   "codemirror_mode": {
    "name": "ipython",
    "version": 3
   },
   "file_extension": ".py",
   "mimetype": "text/x-python",
   "name": "python",
   "nbconvert_exporter": "python",
   "pygments_lexer": "ipython3",
   "version": "3.8.5"
  }
 },
 "nbformat": 4,
 "nbformat_minor": 4
}
