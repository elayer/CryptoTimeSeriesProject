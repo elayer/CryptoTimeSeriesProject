{
 "cells": [
  {
   "cell_type": "code",
   "execution_count": null,
   "metadata": {},
   "outputs": [],
   "source": [
    "def train_val_split(x, y, train_pct = 0.8):\n",
    "    \"\"\"Given the input x and output labels y, splits the dataset into train, validation and test datasets\n",
    "    Args:\n",
    "        x ([list]): [A list of all the input sequences]\n",
    "        y ([list]): [A list of all the outputs (floats)]\n",
    "        train_pct ([float]): [% of data in the test set]\n",
    "    \"\"\"\n",
    "    # Perform a train test split (It will be sequential here since we're working with time series data)\n",
    "    N = len(x)\n",
    "    \n",
    "    X_train = x[:int(train_pct * N)]\n",
    "    y_train = y[:int(train_pct * N)]\n",
    "\n",
    "    X_val = x[int(train_pct * N):]\n",
    "    y_val = y[int(train_pct * N):]\n",
    "\n",
    "    return (X_train, y_train, X_val, y_val)"
   ]
  }
 ],
 "metadata": {
  "kernelspec": {
   "display_name": "Python 3",
   "language": "python",
   "name": "python3"
  },
  "language_info": {
   "codemirror_mode": {
    "name": "ipython",
    "version": 3
   },
   "file_extension": ".py",
   "mimetype": "text/x-python",
   "name": "python",
   "nbconvert_exporter": "python",
   "pygments_lexer": "ipython3",
   "version": "3.8.5"
  }
 },
 "nbformat": 4,
 "nbformat_minor": 4
}
