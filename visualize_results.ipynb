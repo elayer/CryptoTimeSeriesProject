{
 "cells": [
  {
   "cell_type": "code",
   "execution_count": null,
   "metadata": {},
   "outputs": [],
   "source": [
    "def visualize_results(preds, labels, dates):\n",
    "    \"\"\"[Given predictions and labels for training and validation datasets, visualizes them in a plot]\n",
    "    Args:\n",
    "        preds ([list]): [Predicted values of the stock prices]\n",
    "        labels ([list]): [True values of the stock prices]\n",
    "        dates ([list]): [a list of dates as strings]\n",
    "    \"\"\"\n",
    "    train_preds, val_preds = preds[0], preds[1]\n",
    "    train_labels, val_labels = labels[0], labels[1]\n",
    "\n",
    "    # Format the predictions into a dataframe and save them to a file in the predictions folder\n",
    "    all_preds = np.concatenate((train_preds,val_preds))\n",
    "    all_labels = np.concatenate((train_labels,val_labels))\n",
    "    flags = [\"train\"] * len(train_labels) + [\"valid\"] * len(val_labels)\n",
    "\n",
    "    df = pd.DataFrame([(x[0], y[0]) for x, y in zip(all_preds, all_labels)], columns = [\"Predictions\", \"Ground Truth\"])\n",
    "    df[\"Type\"] = flags\n",
    "    df.index = dates\n",
    "    #df.to_csv(pred_pth)\n",
    "    #st.write(\"Predictions for the last five timestamps...\")\n",
    "    #st.dataframe(df.tail(5), width = 600, height = 800)\n",
    "\n",
    "    # Find out the first element which belongs to validation dataset to depict the same manually\n",
    "    dt = None\n",
    "    for idx, item in enumerate(df.Type):\n",
    "        if item == \"valid\":\n",
    "            dt = df.index[idx]\n",
    "            break\n",
    "    \n",
    "    # Create the plot and save it to the path provided as an argument above\n",
    "    \n",
    "    plt.figure(figsize = (24,11))\n",
    "    plt.plot(df.index, df[\"Predictions\"], color = 'red')\n",
    "    plt.plot(df.index, df[\"Ground Truth\"], color = 'blue')\n",
    "    plt.legend([\"Predicted Values\", \"True Values\"], fontsize = 16)\n",
    "    plt.axvline(x = dt, c='magenta')\n",
    "    plt.xticks(rotation = 90)\n",
    "    plt.xlabel(\"Dates\", fontsize = 16, weight='bold')\n",
    "    plt.ylabel(\"Price\", fontsize = 16, weight='bold')\n",
    "    plt.title(\"Cryptocurrency LSTM Predictions (Train) | (Validation)\", fontsize = 16, weight='bold')\n",
    "    \n",
    "    #plt.savefig(img_pth)\n",
    "    plt.show()\n",
    "    #st.image(image = img_pth, caption = f\"{sym} forecast analysis\", width = 800)"
   ]
  }
 ],
 "metadata": {
  "kernelspec": {
   "display_name": "Python 3",
   "language": "python",
   "name": "python3"
  },
  "language_info": {
   "codemirror_mode": {
    "name": "ipython",
    "version": 3
   },
   "file_extension": ".py",
   "mimetype": "text/x-python",
   "name": "python",
   "nbconvert_exporter": "python",
   "pygments_lexer": "ipython3",
   "version": "3.8.5"
  }
 },
 "nbformat": 4,
 "nbformat_minor": 4
}
